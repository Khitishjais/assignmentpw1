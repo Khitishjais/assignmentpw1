{
 "cells": [
  {
   "cell_type": "code",
   "execution_count": 1,
   "id": "3bc014f7-f79e-4a7d-8b88-a5cfe68e1b2d",
   "metadata": {},
   "outputs": [],
   "source": [
    "\n",
    "## 1st question swap\n",
    "x=10\n",
    "y=80"
   ]
  },
  {
   "cell_type": "code",
   "execution_count": 2,
   "id": "b2e0abec-faa4-48d6-b0ad-2e8a77f2ed27",
   "metadata": {},
   "outputs": [],
   "source": [
    "x , y = y , x"
   ]
  },
  {
   "cell_type": "code",
   "execution_count": 3,
   "id": "eb59a469-cd43-44c1-8554-42b53ca1adc3",
   "metadata": {},
   "outputs": [
    {
     "data": {
      "text/plain": [
       "80"
      ]
     },
     "execution_count": 3,
     "metadata": {},
     "output_type": "execute_result"
    }
   ],
   "source": [
    "x"
   ]
  },
  {
   "cell_type": "code",
   "execution_count": 4,
   "id": "d55d0169-3073-420b-8226-bef5cdb83257",
   "metadata": {},
   "outputs": [
    {
     "data": {
      "text/plain": [
       "10"
      ]
     },
     "execution_count": 4,
     "metadata": {},
     "output_type": "execute_result"
    }
   ],
   "source": [
    "y"
   ]
  },
  {
   "cell_type": "markdown",
   "id": "a41b2f1c-f43e-49e9-93f9-5b56e8f4d7d6",
   "metadata": {},
   "source": [
    "##  2nd question area\n"
   ]
  },
  {
   "cell_type": "code",
   "execution_count": 9,
   "id": "d214ab76-0c24-47c5-a77c-192ad1d3263a",
   "metadata": {},
   "outputs": [
    {
     "name": "stdin",
     "output_type": "stream",
     "text": [
      " 254\n"
     ]
    }
   ],
   "source": [
    "B = int(input())"
   ]
  },
  {
   "cell_type": "code",
   "execution_count": 10,
   "id": "9be3453e-45b8-4908-a999-fd2a5dc48d3e",
   "metadata": {},
   "outputs": [
    {
     "name": "stdin",
     "output_type": "stream",
     "text": [
      " 25\n"
     ]
    }
   ],
   "source": [
    "L = int(input())"
   ]
  },
  {
   "cell_type": "code",
   "execution_count": 11,
   "id": "b8f294e8-4281-43e2-9887-427a7e8900df",
   "metadata": {},
   "outputs": [],
   "source": [
    "area = B*L\n"
   ]
  },
  {
   "cell_type": "code",
   "execution_count": 12,
   "id": "3441d7fe-4699-44f6-a28a-f35988b8d432",
   "metadata": {},
   "outputs": [
    {
     "data": {
      "text/plain": [
       "6350"
      ]
     },
     "execution_count": 12,
     "metadata": {},
     "output_type": "execute_result"
    }
   ],
   "source": [
    "area"
   ]
  },
  {
   "cell_type": "code",
   "execution_count": null,
   "id": "e5e17051-8d15-4b66-ae10-99b60694256e",
   "metadata": {
    "tags": []
   },
   "outputs": [],
   "source": [
    "## 3rd question"
   ]
  },
  {
   "cell_type": "code",
   "execution_count": 13,
   "id": "010a7ebb-4d82-4178-8621-5f08c6a55e7b",
   "metadata": {},
   "outputs": [
    {
     "name": "stdin",
     "output_type": "stream",
     "text": [
      " 43\n"
     ]
    }
   ],
   "source": [
    "celcius = float(input())\n",
    "farenheit = (celcius*9/5 + 32)\n"
   ]
  },
  {
   "cell_type": "code",
   "execution_count": 14,
   "id": "d8805de2-0272-4091-b443-aaf79c97928e",
   "metadata": {},
   "outputs": [
    {
     "data": {
      "text/plain": [
       "109.4"
      ]
     },
     "execution_count": 14,
     "metadata": {},
     "output_type": "execute_result"
    }
   ],
   "source": [
    "farenheit\n"
   ]
  },
  {
   "cell_type": "code",
   "execution_count": null,
   "id": "eb5c005b-52dc-45c5-9214-70b630957ccf",
   "metadata": {
    "tags": []
   },
   "outputs": [],
   "source": [
    "## string based question\n"
   ]
  },
  {
   "cell_type": "code",
   "execution_count": 16,
   "id": "cf9d1721-b9e1-4336-b217-82cf1a9af9a7",
   "metadata": {
    "tags": []
   },
   "outputs": [
    {
     "name": "stdin",
     "output_type": "stream",
     "text": [
      " khitish\n"
     ]
    },
    {
     "data": {
      "text/plain": [
       "7"
      ]
     },
     "execution_count": 16,
     "metadata": {},
     "output_type": "execute_result"
    }
   ],
   "source": [
    "## question 1\n",
    "s = str(input())\n",
    "len(s)\n",
    "\n"
   ]
  },
  {
   "cell_type": "code",
   "execution_count": 20,
   "id": "a4810fc7-2bed-4c51-b27c-5b22d1b4cb49",
   "metadata": {},
   "outputs": [
    {
     "name": "stdin",
     "output_type": "stream",
     "text": [
      "Enter a sentence:  khitisghhh\n"
     ]
    },
    {
     "name": "stdout",
     "output_type": "stream",
     "text": [
      "Number of vowels in the sentence: 2\n"
     ]
    }
   ],
   "source": [
    "## 2nd queston\n",
    "# Take input for a sentence from the user\n",
    "sentence = input(\"Enter a sentence: \")\n",
    "vowels = \"aeiouAEIOU\"\n",
    "vowel_count = sum(sentence.count(vowel) for vowel in vowels)\n",
    "print(\"Number of vowels in the sentence:\", vowel_count)\n"
   ]
  },
  {
   "cell_type": "code",
   "execution_count": 26,
   "id": "8024aebd-ab11-46ec-ab70-698864ac283b",
   "metadata": {},
   "outputs": [
    {
     "name": "stdin",
     "output_type": "stream",
     "text": [
      " women\n"
     ]
    }
   ],
   "source": [
    "#3rd question \n",
    "s = str(input())\n",
    "s1 = s[:: -1]\n"
   ]
  },
  {
   "cell_type": "code",
   "execution_count": 27,
   "id": "6982c638-a990-4c53-b238-1b5a6ade50de",
   "metadata": {},
   "outputs": [
    {
     "data": {
      "text/plain": [
       "'nemow'"
      ]
     },
     "execution_count": 27,
     "metadata": {},
     "output_type": "execute_result"
    }
   ],
   "source": [
    "s1"
   ]
  },
  {
   "cell_type": "code",
   "execution_count": 41,
   "id": "90f188b3-711f-457d-b420-561fad8c6cb4",
   "metadata": {},
   "outputs": [
    {
     "name": "stdin",
     "output_type": "stream",
     "text": [
      " mom\n"
     ]
    }
   ],
   "source": [
    "\n",
    "## 4th question \n",
    "\n",
    "s = str(input())\n"
   ]
  },
  {
   "cell_type": "code",
   "execution_count": 43,
   "id": "611d4f5e-370e-4ae4-a870-914663576ea2",
   "metadata": {},
   "outputs": [
    {
     "name": "stdout",
     "output_type": "stream",
     "text": [
      " it is a palindromic sequnce \n"
     ]
    }
   ],
   "source": [
    "s1 = s[:: -1]\n",
    "if (s==s1):\n",
    "            print(\" it is a palindromic sequnce \")\n",
    "else:\n",
    "              print(\" it is not  palindromic sequnce \")"
   ]
  },
  {
   "cell_type": "code",
   "execution_count": 44,
   "id": "6fbcf8fb-7ce5-477d-962c-f77269924e78",
   "metadata": {},
   "outputs": [
    {
     "name": "stdin",
     "output_type": "stream",
     "text": [
      " khitish jaiswa ksji\n"
     ]
    }
   ],
   "source": [
    "## 5th question\n",
    "s = str(input())\n",
    "s1 = s.replace(\" \", \"\")"
   ]
  },
  {
   "cell_type": "code",
   "execution_count": 45,
   "id": "07da5b95-7f18-423a-86fe-8b0a3e6db7af",
   "metadata": {},
   "outputs": [
    {
     "data": {
      "text/plain": [
       "'khitishjaiswaksji'"
      ]
     },
     "execution_count": 45,
     "metadata": {},
     "output_type": "execute_result"
    }
   ],
   "source": [
    "s1\n"
   ]
  }
 ],
 "metadata": {
  "kernelspec": {
   "display_name": "Python 3 (ipykernel)",
   "language": "python",
   "name": "python3"
  },
  "language_info": {
   "codemirror_mode": {
    "name": "ipython",
    "version": 3
   },
   "file_extension": ".py",
   "mimetype": "text/x-python",
   "name": "python",
   "nbconvert_exporter": "python",
   "pygments_lexer": "ipython3",
   "version": "3.10.8"
  }
 },
 "nbformat": 4,
 "nbformat_minor": 5
}
